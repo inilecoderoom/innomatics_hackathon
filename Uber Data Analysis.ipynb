{
 "cells": [
  {
   "cell_type": "code",
   "execution_count": 1,
   "id": "6109b97f",
   "metadata": {},
   "outputs": [],
   "source": [
    "# importing important library\n",
    "import numpy as np\n",
    "import pandas as pd\n",
    "\n",
    "from numpy import cos, sin, arcsin, sqrt\n",
    "from math import radians"
   ]
  },
  {
   "cell_type": "code",
   "execution_count": 2,
   "id": "4ab47f8f",
   "metadata": {},
   "outputs": [
    {
     "data": {
      "text/html": [
       "<div>\n",
       "<style scoped>\n",
       "    .dataframe tbody tr th:only-of-type {\n",
       "        vertical-align: middle;\n",
       "    }\n",
       "\n",
       "    .dataframe tbody tr th {\n",
       "        vertical-align: top;\n",
       "    }\n",
       "\n",
       "    .dataframe thead th {\n",
       "        text-align: right;\n",
       "    }\n",
       "</style>\n",
       "<table border=\"1\" class=\"dataframe\">\n",
       "  <thead>\n",
       "    <tr style=\"text-align: right;\">\n",
       "      <th></th>\n",
       "      <th>ride_id</th>\n",
       "      <th>fare_amount</th>\n",
       "      <th>pickup_datetime</th>\n",
       "      <th>pickup_longitude</th>\n",
       "      <th>pickup_latitude</th>\n",
       "      <th>dropoff_longitude</th>\n",
       "      <th>dropoff_latitude</th>\n",
       "      <th>passenger_count</th>\n",
       "    </tr>\n",
       "  </thead>\n",
       "  <tbody>\n",
       "    <tr>\n",
       "      <th>0</th>\n",
       "      <td>24238194</td>\n",
       "      <td>7.5</td>\n",
       "      <td>2015-05-07 19:52:06 UTC</td>\n",
       "      <td>-73.999817</td>\n",
       "      <td>40.738354</td>\n",
       "      <td>-73.999512</td>\n",
       "      <td>40.723217</td>\n",
       "      <td>1</td>\n",
       "    </tr>\n",
       "    <tr>\n",
       "      <th>1</th>\n",
       "      <td>27835199</td>\n",
       "      <td>7.7</td>\n",
       "      <td>2009-07-17 20:04:56 UTC</td>\n",
       "      <td>-73.994355</td>\n",
       "      <td>40.728225</td>\n",
       "      <td>-73.994710</td>\n",
       "      <td>40.750325</td>\n",
       "      <td>1</td>\n",
       "    </tr>\n",
       "    <tr>\n",
       "      <th>2</th>\n",
       "      <td>44984355</td>\n",
       "      <td>12.9</td>\n",
       "      <td>2009-08-24 21:45:00 UTC</td>\n",
       "      <td>-74.005043</td>\n",
       "      <td>40.740770</td>\n",
       "      <td>-73.962565</td>\n",
       "      <td>40.772647</td>\n",
       "      <td>1</td>\n",
       "    </tr>\n",
       "    <tr>\n",
       "      <th>3</th>\n",
       "      <td>25894730</td>\n",
       "      <td>5.3</td>\n",
       "      <td>2009-06-26 08:22:21 UTC</td>\n",
       "      <td>-73.976124</td>\n",
       "      <td>40.790844</td>\n",
       "      <td>-73.965316</td>\n",
       "      <td>40.803349</td>\n",
       "      <td>3</td>\n",
       "    </tr>\n",
       "    <tr>\n",
       "      <th>4</th>\n",
       "      <td>17610152</td>\n",
       "      <td>16.0</td>\n",
       "      <td>2014-08-28 17:47:00 UTC</td>\n",
       "      <td>-73.925023</td>\n",
       "      <td>40.744085</td>\n",
       "      <td>-73.973082</td>\n",
       "      <td>40.761247</td>\n",
       "      <td>5</td>\n",
       "    </tr>\n",
       "  </tbody>\n",
       "</table>\n",
       "</div>"
      ],
      "text/plain": [
       "    ride_id  fare_amount          pickup_datetime  pickup_longitude  \\\n",
       "0  24238194          7.5  2015-05-07 19:52:06 UTC        -73.999817   \n",
       "1  27835199          7.7  2009-07-17 20:04:56 UTC        -73.994355   \n",
       "2  44984355         12.9  2009-08-24 21:45:00 UTC        -74.005043   \n",
       "3  25894730          5.3  2009-06-26 08:22:21 UTC        -73.976124   \n",
       "4  17610152         16.0  2014-08-28 17:47:00 UTC        -73.925023   \n",
       "\n",
       "   pickup_latitude  dropoff_longitude  dropoff_latitude  passenger_count  \n",
       "0        40.738354         -73.999512         40.723217                1  \n",
       "1        40.728225         -73.994710         40.750325                1  \n",
       "2        40.740770         -73.962565         40.772647                1  \n",
       "3        40.790844         -73.965316         40.803349                3  \n",
       "4        40.744085         -73.973082         40.761247                5  "
      ]
     },
     "execution_count": 2,
     "metadata": {},
     "output_type": "execute_result"
    }
   ],
   "source": [
    "df = pd.read_csv(\"uber_rides_data.csv\")\n",
    "df.head()"
   ]
  },
  {
   "cell_type": "markdown",
   "id": "264b2317",
   "metadata": {},
   "source": [
    "## Data Understanding"
   ]
  },
  {
   "cell_type": "code",
   "execution_count": 22,
   "id": "df86e5ef",
   "metadata": {},
   "outputs": [
    {
     "data": {
      "text/plain": [
       "(200000, 8)"
      ]
     },
     "execution_count": 22,
     "metadata": {},
     "output_type": "execute_result"
    }
   ],
   "source": [
    "df.shape"
   ]
  },
  {
   "cell_type": "code",
   "execution_count": 10,
   "id": "14ac975d",
   "metadata": {},
   "outputs": [
    {
     "name": "stdout",
     "output_type": "stream",
     "text": [
      "<class 'pandas.core.frame.DataFrame'>\n",
      "RangeIndex: 200000 entries, 0 to 199999\n",
      "Data columns (total 8 columns):\n",
      " #   Column             Non-Null Count   Dtype  \n",
      "---  ------             --------------   -----  \n",
      " 0   ride_id            200000 non-null  int64  \n",
      " 1   fare_amount        200000 non-null  float64\n",
      " 2   pickup_datetime    200000 non-null  object \n",
      " 3   pickup_longitude   200000 non-null  float64\n",
      " 4   pickup_latitude    200000 non-null  float64\n",
      " 5   dropoff_longitude  199999 non-null  float64\n",
      " 6   dropoff_latitude   199999 non-null  float64\n",
      " 7   passenger_count    200000 non-null  int64  \n",
      "dtypes: float64(5), int64(2), object(1)\n",
      "memory usage: 12.2+ MB\n"
     ]
    }
   ],
   "source": [
    "df.info()"
   ]
  },
  {
   "cell_type": "code",
   "execution_count": 9,
   "id": "59c69606",
   "metadata": {},
   "outputs": [
    {
     "data": {
      "text/html": [
       "<div>\n",
       "<style scoped>\n",
       "    .dataframe tbody tr th:only-of-type {\n",
       "        vertical-align: middle;\n",
       "    }\n",
       "\n",
       "    .dataframe tbody tr th {\n",
       "        vertical-align: top;\n",
       "    }\n",
       "\n",
       "    .dataframe thead th {\n",
       "        text-align: right;\n",
       "    }\n",
       "</style>\n",
       "<table border=\"1\" class=\"dataframe\">\n",
       "  <thead>\n",
       "    <tr style=\"text-align: right;\">\n",
       "      <th></th>\n",
       "      <th>ride_id</th>\n",
       "      <th>fare_amount</th>\n",
       "      <th>pickup_longitude</th>\n",
       "      <th>pickup_latitude</th>\n",
       "      <th>dropoff_longitude</th>\n",
       "      <th>dropoff_latitude</th>\n",
       "      <th>passenger_count</th>\n",
       "    </tr>\n",
       "  </thead>\n",
       "  <tbody>\n",
       "    <tr>\n",
       "      <th>count</th>\n",
       "      <td>2.000000e+05</td>\n",
       "      <td>200000.000000</td>\n",
       "      <td>200000.000000</td>\n",
       "      <td>200000.000000</td>\n",
       "      <td>199999.000000</td>\n",
       "      <td>199999.000000</td>\n",
       "      <td>200000.000000</td>\n",
       "    </tr>\n",
       "    <tr>\n",
       "      <th>mean</th>\n",
       "      <td>2.771250e+07</td>\n",
       "      <td>11.359955</td>\n",
       "      <td>-72.527638</td>\n",
       "      <td>39.935885</td>\n",
       "      <td>-72.525292</td>\n",
       "      <td>39.923890</td>\n",
       "      <td>1.684535</td>\n",
       "    </tr>\n",
       "    <tr>\n",
       "      <th>std</th>\n",
       "      <td>1.601382e+07</td>\n",
       "      <td>9.901776</td>\n",
       "      <td>11.437787</td>\n",
       "      <td>7.720539</td>\n",
       "      <td>13.117408</td>\n",
       "      <td>6.794829</td>\n",
       "      <td>1.385997</td>\n",
       "    </tr>\n",
       "    <tr>\n",
       "      <th>min</th>\n",
       "      <td>1.000000e+00</td>\n",
       "      <td>-52.000000</td>\n",
       "      <td>-1340.648410</td>\n",
       "      <td>-74.015515</td>\n",
       "      <td>-3356.666300</td>\n",
       "      <td>-881.985513</td>\n",
       "      <td>0.000000</td>\n",
       "    </tr>\n",
       "    <tr>\n",
       "      <th>25%</th>\n",
       "      <td>1.382535e+07</td>\n",
       "      <td>6.000000</td>\n",
       "      <td>-73.992065</td>\n",
       "      <td>40.734796</td>\n",
       "      <td>-73.991407</td>\n",
       "      <td>40.733823</td>\n",
       "      <td>1.000000</td>\n",
       "    </tr>\n",
       "    <tr>\n",
       "      <th>50%</th>\n",
       "      <td>2.774550e+07</td>\n",
       "      <td>8.500000</td>\n",
       "      <td>-73.981823</td>\n",
       "      <td>40.752592</td>\n",
       "      <td>-73.980093</td>\n",
       "      <td>40.753042</td>\n",
       "      <td>1.000000</td>\n",
       "    </tr>\n",
       "    <tr>\n",
       "      <th>75%</th>\n",
       "      <td>4.155530e+07</td>\n",
       "      <td>12.500000</td>\n",
       "      <td>-73.967153</td>\n",
       "      <td>40.767158</td>\n",
       "      <td>-73.963659</td>\n",
       "      <td>40.768001</td>\n",
       "      <td>2.000000</td>\n",
       "    </tr>\n",
       "    <tr>\n",
       "      <th>max</th>\n",
       "      <td>5.542357e+07</td>\n",
       "      <td>499.000000</td>\n",
       "      <td>57.418457</td>\n",
       "      <td>1644.421482</td>\n",
       "      <td>1153.572603</td>\n",
       "      <td>872.697628</td>\n",
       "      <td>208.000000</td>\n",
       "    </tr>\n",
       "  </tbody>\n",
       "</table>\n",
       "</div>"
      ],
      "text/plain": [
       "            ride_id    fare_amount  pickup_longitude  pickup_latitude  \\\n",
       "count  2.000000e+05  200000.000000     200000.000000    200000.000000   \n",
       "mean   2.771250e+07      11.359955        -72.527638        39.935885   \n",
       "std    1.601382e+07       9.901776         11.437787         7.720539   \n",
       "min    1.000000e+00     -52.000000      -1340.648410       -74.015515   \n",
       "25%    1.382535e+07       6.000000        -73.992065        40.734796   \n",
       "50%    2.774550e+07       8.500000        -73.981823        40.752592   \n",
       "75%    4.155530e+07      12.500000        -73.967153        40.767158   \n",
       "max    5.542357e+07     499.000000         57.418457      1644.421482   \n",
       "\n",
       "       dropoff_longitude  dropoff_latitude  passenger_count  \n",
       "count      199999.000000     199999.000000    200000.000000  \n",
       "mean          -72.525292         39.923890         1.684535  \n",
       "std            13.117408          6.794829         1.385997  \n",
       "min         -3356.666300       -881.985513         0.000000  \n",
       "25%           -73.991407         40.733823         1.000000  \n",
       "50%           -73.980093         40.753042         1.000000  \n",
       "75%           -73.963659         40.768001         2.000000  \n",
       "max          1153.572603        872.697628       208.000000  "
      ]
     },
     "execution_count": 9,
     "metadata": {},
     "output_type": "execute_result"
    }
   ],
   "source": [
    "df.describe()"
   ]
  },
  {
   "cell_type": "code",
   "execution_count": 5,
   "id": "f70b1cf0",
   "metadata": {},
   "outputs": [
    {
     "data": {
      "text/plain": [
       "ride_id              0\n",
       "fare_amount          0\n",
       "pickup_datetime      0\n",
       "pickup_longitude     0\n",
       "pickup_latitude      0\n",
       "dropoff_longitude    1\n",
       "dropoff_latitude     1\n",
       "passenger_count      0\n",
       "dtype: int64"
      ]
     },
     "execution_count": 5,
     "metadata": {},
     "output_type": "execute_result"
    }
   ],
   "source": [
    "df.isnull().sum()"
   ]
  },
  {
   "cell_type": "code",
   "execution_count": 11,
   "id": "7ae61434",
   "metadata": {},
   "outputs": [],
   "source": [
    "dd = df.copy()"
   ]
  },
  {
   "cell_type": "markdown",
   "id": "5b6c353b",
   "metadata": {},
   "source": [
    "### converting to datatime"
   ]
  },
  {
   "cell_type": "code",
   "execution_count": 13,
   "id": "43fd2e29",
   "metadata": {},
   "outputs": [
    {
     "data": {
      "text/plain": [
       "0        2015-05-07 19:52:06+00:00\n",
       "1        2009-07-17 20:04:56+00:00\n",
       "2        2009-08-24 21:45:00+00:00\n",
       "3        2009-06-26 08:22:21+00:00\n",
       "4        2014-08-28 17:47:00+00:00\n",
       "                    ...           \n",
       "199995   2012-10-28 10:49:00+00:00\n",
       "199996   2014-03-14 01:09:00+00:00\n",
       "199997   2009-06-29 00:42:00+00:00\n",
       "199998   2015-05-20 14:56:25+00:00\n",
       "199999   2010-05-15 04:08:00+00:00\n",
       "Name: pickup_datetime, Length: 200000, dtype: datetime64[ns, UTC]"
      ]
     },
     "execution_count": 13,
     "metadata": {},
     "output_type": "execute_result"
    }
   ],
   "source": [
    "pd.to_datetime(df['pickup_datetime'])"
   ]
  },
  {
   "cell_type": "code",
   "execution_count": 14,
   "id": "f260a8eb",
   "metadata": {},
   "outputs": [
    {
     "data": {
      "text/plain": [
       "0        2015-05-07 19:52:06\n",
       "1        2009-07-17 20:04:56\n",
       "2        2009-08-24 21:45:00\n",
       "3        2009-06-26 08:22:21\n",
       "4        2014-08-28 17:47:00\n",
       "                 ...        \n",
       "199995   2012-10-28 10:49:00\n",
       "199996   2014-03-14 01:09:00\n",
       "199997   2009-06-29 00:42:00\n",
       "199998   2015-05-20 14:56:25\n",
       "199999   2010-05-15 04:08:00\n",
       "Name: pickup_datetime, Length: 200000, dtype: datetime64[ns]"
      ]
     },
     "execution_count": 14,
     "metadata": {},
     "output_type": "execute_result"
    }
   ],
   "source": [
    "df['pickup_datetime'].astype('datetime64[ns]')"
   ]
  },
  {
   "cell_type": "code",
   "execution_count": 23,
   "id": "2f74175d",
   "metadata": {},
   "outputs": [],
   "source": [
    "# Dropping Null values\n",
    "df.dropna(inplace = True)"
   ]
  },
  {
   "cell_type": "code",
   "execution_count": 24,
   "id": "798dad87",
   "metadata": {},
   "outputs": [
    {
     "data": {
      "text/plain": [
       "ride_id              0\n",
       "fare_amount          0\n",
       "pickup_datetime      0\n",
       "pickup_longitude     0\n",
       "pickup_latitude      0\n",
       "dropoff_longitude    0\n",
       "dropoff_latitude     0\n",
       "passenger_count      0\n",
       "dtype: int64"
      ]
     },
     "execution_count": 24,
     "metadata": {},
     "output_type": "execute_result"
    }
   ],
   "source": [
    "df.isnull().sum()"
   ]
  },
  {
   "cell_type": "code",
   "execution_count": 25,
   "id": "43092f0e",
   "metadata": {},
   "outputs": [
    {
     "data": {
      "text/plain": [
       "11.359891549457748"
      ]
     },
     "execution_count": 25,
     "metadata": {},
     "output_type": "execute_result"
    }
   ],
   "source": [
    "avg_fare = df['fare_amount'].mean()\n",
    "avg_fare"
   ]
  },
  {
   "cell_type": "markdown",
   "id": "e663f3e2",
   "metadata": {},
   "source": [
    "### Calculating Haversine Distance"
   ]
  },
  {
   "cell_type": "code",
   "execution_count": 31,
   "id": "baa064b6",
   "metadata": {},
   "outputs": [
    {
     "data": {
      "text/html": [
       "<div>\n",
       "<style scoped>\n",
       "    .dataframe tbody tr th:only-of-type {\n",
       "        vertical-align: middle;\n",
       "    }\n",
       "\n",
       "    .dataframe tbody tr th {\n",
       "        vertical-align: top;\n",
       "    }\n",
       "\n",
       "    .dataframe thead th {\n",
       "        text-align: right;\n",
       "    }\n",
       "</style>\n",
       "<table border=\"1\" class=\"dataframe\">\n",
       "  <thead>\n",
       "    <tr style=\"text-align: right;\">\n",
       "      <th></th>\n",
       "      <th>ride_id</th>\n",
       "      <th>fare_amount</th>\n",
       "      <th>pickup_datetime</th>\n",
       "      <th>pickup_longitude</th>\n",
       "      <th>pickup_latitude</th>\n",
       "      <th>dropoff_longitude</th>\n",
       "      <th>dropoff_latitude</th>\n",
       "      <th>passenger_count</th>\n",
       "      <th>distance</th>\n",
       "    </tr>\n",
       "  </thead>\n",
       "  <tbody>\n",
       "    <tr>\n",
       "      <th>0</th>\n",
       "      <td>24238194</td>\n",
       "      <td>7.5</td>\n",
       "      <td>2015-05-07 19:52:06 UTC</td>\n",
       "      <td>-73.999817</td>\n",
       "      <td>40.738354</td>\n",
       "      <td>-73.999512</td>\n",
       "      <td>40.723217</td>\n",
       "      <td>1</td>\n",
       "      <td>1.683323</td>\n",
       "    </tr>\n",
       "    <tr>\n",
       "      <th>1</th>\n",
       "      <td>27835199</td>\n",
       "      <td>7.7</td>\n",
       "      <td>2009-07-17 20:04:56 UTC</td>\n",
       "      <td>-73.994355</td>\n",
       "      <td>40.728225</td>\n",
       "      <td>-73.994710</td>\n",
       "      <td>40.750325</td>\n",
       "      <td>1</td>\n",
       "      <td>2.457590</td>\n",
       "    </tr>\n",
       "    <tr>\n",
       "      <th>2</th>\n",
       "      <td>44984355</td>\n",
       "      <td>12.9</td>\n",
       "      <td>2009-08-24 21:45:00 UTC</td>\n",
       "      <td>-74.005043</td>\n",
       "      <td>40.740770</td>\n",
       "      <td>-73.962565</td>\n",
       "      <td>40.772647</td>\n",
       "      <td>1</td>\n",
       "      <td>5.036377</td>\n",
       "    </tr>\n",
       "    <tr>\n",
       "      <th>3</th>\n",
       "      <td>25894730</td>\n",
       "      <td>5.3</td>\n",
       "      <td>2009-06-26 08:22:21 UTC</td>\n",
       "      <td>-73.976124</td>\n",
       "      <td>40.790844</td>\n",
       "      <td>-73.965316</td>\n",
       "      <td>40.803349</td>\n",
       "      <td>3</td>\n",
       "      <td>1.661683</td>\n",
       "    </tr>\n",
       "    <tr>\n",
       "      <th>4</th>\n",
       "      <td>17610152</td>\n",
       "      <td>16.0</td>\n",
       "      <td>2014-08-28 17:47:00 UTC</td>\n",
       "      <td>-73.925023</td>\n",
       "      <td>40.744085</td>\n",
       "      <td>-73.973082</td>\n",
       "      <td>40.761247</td>\n",
       "      <td>5</td>\n",
       "      <td>4.475450</td>\n",
       "    </tr>\n",
       "  </tbody>\n",
       "</table>\n",
       "</div>"
      ],
      "text/plain": [
       "    ride_id  fare_amount          pickup_datetime  pickup_longitude  \\\n",
       "0  24238194          7.5  2015-05-07 19:52:06 UTC        -73.999817   \n",
       "1  27835199          7.7  2009-07-17 20:04:56 UTC        -73.994355   \n",
       "2  44984355         12.9  2009-08-24 21:45:00 UTC        -74.005043   \n",
       "3  25894730          5.3  2009-06-26 08:22:21 UTC        -73.976124   \n",
       "4  17610152         16.0  2014-08-28 17:47:00 UTC        -73.925023   \n",
       "\n",
       "   pickup_latitude  dropoff_longitude  dropoff_latitude  passenger_count  \\\n",
       "0        40.738354         -73.999512         40.723217                1   \n",
       "1        40.728225         -73.994710         40.750325                1   \n",
       "2        40.740770         -73.962565         40.772647                1   \n",
       "3        40.790844         -73.965316         40.803349                3   \n",
       "4        40.744085         -73.973082         40.761247                5   \n",
       "\n",
       "   distance  \n",
       "0  1.683323  \n",
       "1  2.457590  \n",
       "2  5.036377  \n",
       "3  1.661683  \n",
       "4  4.475450  "
      ]
     },
     "execution_count": 31,
     "metadata": {},
     "output_type": "execute_result"
    }
   ],
   "source": [
    "def haversine(row):\n",
    "    lon1 = row['pickup_longitude']\n",
    "    lat1 = row['pickup_latitude']\n",
    "    lon2 = row['dropoff_longitude']\n",
    "    lat2 = row['dropoff_latitude']\n",
    "    lon1, lat1, lon2, lat2 = map(radians, [lon1, lat1, lon2, lat2])\n",
    "    dlon = lon2 - lon1 \n",
    "    dlat = lat2 - lat1 \n",
    "    a = sin(dlat/2)**2 + cos(lat1) * cos(lat2) * sin(dlon/2)**2\n",
    "    c = 2 * arcsin(sqrt(a)) \n",
    "    km = 6371 * c\n",
    "    return km\n",
    "\n",
    "df['distance'] = df.apply(lambda row: haversine(row), axis=1)\n",
    "df.head()"
   ]
  },
  {
   "cell_type": "code",
   "execution_count": 32,
   "id": "02189a3d",
   "metadata": {},
   "outputs": [
    {
     "data": {
      "text/plain": [
       "20.855349825111237"
      ]
     },
     "execution_count": 32,
     "metadata": {},
     "output_type": "execute_result"
    }
   ],
   "source": [
    "mean_dist = df['distance'].mean()\n",
    "mean_dist"
   ]
  },
  {
   "cell_type": "code",
   "execution_count": 41,
   "id": "96f30f38",
   "metadata": {},
   "outputs": [
    {
     "data": {
      "text/plain": [
       "2.1209923961833708"
      ]
     },
     "execution_count": 41,
     "metadata": {},
     "output_type": "execute_result"
    }
   ],
   "source": [
    "# What is the median haversine distance between pickup and dropoff location according to the given dataset?\n",
    "median_dist = df['distance'].median()\n",
    "median_dist"
   ]
  },
  {
   "cell_type": "code",
   "execution_count": 33,
   "id": "f177c0cc",
   "metadata": {},
   "outputs": [
    {
     "data": {
      "text/plain": [
       "16409.239135313164"
      ]
     },
     "execution_count": 33,
     "metadata": {},
     "output_type": "execute_result"
    }
   ],
   "source": [
    "max_dist = df['distance'].max()\n",
    "max_dist"
   ]
  },
  {
   "cell_type": "code",
   "execution_count": 36,
   "id": "6a010d88",
   "metadata": {},
   "outputs": [
    {
     "data": {
      "text/plain": [
       "5632"
      ]
     },
     "execution_count": 36,
     "metadata": {},
     "output_type": "execute_result"
    }
   ],
   "source": [
    "zero_dist_count = df['fare_amount'][df.distance == 0.0].count()\n",
    "zero_dist_count"
   ]
  },
  {
   "cell_type": "code",
   "execution_count": 37,
   "id": "a4d9f1e8",
   "metadata": {},
   "outputs": [
    {
     "data": {
      "text/plain": [
       "11.585317826704546"
      ]
     },
     "execution_count": 37,
     "metadata": {},
     "output_type": "execute_result"
    }
   ],
   "source": [
    "zero_dist_mean = df['fare_amount'][df.distance == 0.0].mean()\n",
    "zero_dist_mean\n",
    "\n",
    "# What is the mean 'fare_amount' for rides with 0 haversine distance?\n",
    "# Do you sense something fishy? Try to analyze, and give your expert opinion in Jupyter Notebook."
   ]
  },
  {
   "cell_type": "markdown",
   "id": "540d5948",
   "metadata": {},
   "source": [
    "### It is fishy. If distance is zero there should not be any amount charged for the ride. The cab driver is doing some incorrect activity."
   ]
  },
  {
   "cell_type": "code",
   "execution_count": 38,
   "id": "23724e58",
   "metadata": {},
   "outputs": [
    {
     "data": {
      "text/plain": [
       "499.0"
      ]
     },
     "execution_count": 38,
     "metadata": {},
     "output_type": "execute_result"
    }
   ],
   "source": [
    "max_fare_amount = df['fare_amount'].max()\n",
    "max_fare_amount"
   ]
  },
  {
   "cell_type": "code",
   "execution_count": 40,
   "id": "54d9b60c",
   "metadata": {},
   "outputs": [
    {
     "data": {
      "text/plain": [
       "170081    0.00079\n",
       "Name: distance, dtype: float64"
      ]
     },
     "execution_count": 40,
     "metadata": {},
     "output_type": "execute_result"
    }
   ],
   "source": [
    "dist_for_max_amount = df[df.fare_amount == max_fare_amount]['distance']\n",
    "dist_for_max_amount\n",
    "\n",
    "# What is the haversine distance between pickup and dropoff location for the costliest ride?\n",
    "# Do you sense something fishy? Try to analyze, and give your expert opinion in Jupyter Notebook."
   ]
  },
  {
   "cell_type": "markdown",
   "id": "c75cc03a",
   "metadata": {},
   "source": [
    "### Very much incorrect.  How it is possible that for this much small ride they charged maximum. Some outlier present in the data."
   ]
  },
  {
   "cell_type": "markdown",
   "id": "05b61297",
   "metadata": {},
   "source": [
    "## Working with DateTimeIndex to Extract Feature"
   ]
  },
  {
   "cell_type": "code",
   "execution_count": 56,
   "id": "597bd370",
   "metadata": {},
   "outputs": [],
   "source": [
    "df['year'] = pd.DatetimeIndex(df['pickup_datetime']).year\n",
    "df['month'] = pd.DatetimeIndex(df['pickup_datetime']).month\n",
    "df['day'] = pd.DatetimeIndex(df['pickup_datetime']).day_name()"
   ]
  },
  {
   "cell_type": "code",
   "execution_count": 46,
   "id": "6c4bd7c4",
   "metadata": {},
   "outputs": [
    {
     "data": {
      "text/plain": [
       "29968"
      ]
     },
     "execution_count": 46,
     "metadata": {},
     "output_type": "execute_result"
    }
   ],
   "source": [
    "ride_2014_count = df[df.year == 2014]['year'].count()\n",
    "ride_2014_count"
   ]
  },
  {
   "cell_type": "code",
   "execution_count": 53,
   "id": "321236b5",
   "metadata": {},
   "outputs": [
    {
     "data": {
      "text/plain": [
       "7687"
      ]
     },
     "execution_count": 53,
     "metadata": {},
     "output_type": "execute_result"
    }
   ],
   "source": [
    "ride_2014_1st_count = df[(df.year == 2014) & (df.month < 4)]['ride_id'].count()\n",
    "ride_2014_1st_count"
   ]
  },
  {
   "cell_type": "code",
   "execution_count": 59,
   "id": "452eea5d",
   "metadata": {},
   "outputs": [
    {
     "data": {
      "text/plain": [
       "day\n",
       "Friday       354\n",
       "Monday       265\n",
       "Saturday     362\n",
       "Sunday       331\n",
       "Thursday     457\n",
       "Tuesday      322\n",
       "Wednesday    391\n",
       "Name: ride_id, dtype: int64"
      ]
     },
     "execution_count": 59,
     "metadata": {},
     "output_type": "execute_result"
    }
   ],
   "source": [
    "ride_2010_sept_day = df[(df.year == 2010) & (df.month == 9)].groupby(\"day\")[\"ride_id\"].count()\n",
    "ride_2010_sept_day"
   ]
  },
  {
   "cell_type": "code",
   "execution_count": 77,
   "id": "af15a6cb",
   "metadata": {
    "scrolled": true
   },
   "outputs": [
    {
     "data": {
      "text/html": [
       "<div>\n",
       "<style scoped>\n",
       "    .dataframe tbody tr th:only-of-type {\n",
       "        vertical-align: middle;\n",
       "    }\n",
       "\n",
       "    .dataframe tbody tr th {\n",
       "        vertical-align: top;\n",
       "    }\n",
       "\n",
       "    .dataframe thead th {\n",
       "        text-align: right;\n",
       "    }\n",
       "</style>\n",
       "<table border=\"1\" class=\"dataframe\">\n",
       "  <thead>\n",
       "    <tr style=\"text-align: right;\">\n",
       "      <th></th>\n",
       "      <th>ride_id</th>\n",
       "      <th>fare_amount</th>\n",
       "      <th>pickup_datetime</th>\n",
       "      <th>pickup_longitude</th>\n",
       "      <th>pickup_latitude</th>\n",
       "      <th>dropoff_longitude</th>\n",
       "      <th>dropoff_latitude</th>\n",
       "      <th>passenger_count</th>\n",
       "      <th>distance</th>\n",
       "      <th>year</th>\n",
       "      <th>month</th>\n",
       "      <th>day</th>\n",
       "    </tr>\n",
       "  </thead>\n",
       "  <tbody>\n",
       "    <tr>\n",
       "      <th>106170</th>\n",
       "      <td>10033786</td>\n",
       "      <td>5.00</td>\n",
       "      <td>2014-11-21 17:19:48 UTC</td>\n",
       "      <td>-73.957986</td>\n",
       "      <td>40.764925</td>\n",
       "      <td>-73.951847</td>\n",
       "      <td>40.773614</td>\n",
       "      <td>1</td>\n",
       "      <td>1.095793</td>\n",
       "      <td>2014</td>\n",
       "      <td>11</td>\n",
       "      <td>Friday</td>\n",
       "    </tr>\n",
       "    <tr>\n",
       "      <th>35828</th>\n",
       "      <td>15823888</td>\n",
       "      <td>8.90</td>\n",
       "      <td>2011-01-23 20:17:00 UTC</td>\n",
       "      <td>-73.955798</td>\n",
       "      <td>40.779177</td>\n",
       "      <td>-73.986240</td>\n",
       "      <td>40.763995</td>\n",
       "      <td>2</td>\n",
       "      <td>3.069452</td>\n",
       "      <td>2011</td>\n",
       "      <td>1</td>\n",
       "      <td>Sunday</td>\n",
       "    </tr>\n",
       "    <tr>\n",
       "      <th>24261</th>\n",
       "      <td>48909730</td>\n",
       "      <td>4.90</td>\n",
       "      <td>2011-12-09 12:00:57 UTC</td>\n",
       "      <td>-73.990215</td>\n",
       "      <td>40.771838</td>\n",
       "      <td>-73.982583</td>\n",
       "      <td>40.774309</td>\n",
       "      <td>1</td>\n",
       "      <td>0.698948</td>\n",
       "      <td>2011</td>\n",
       "      <td>12</td>\n",
       "      <td>Friday</td>\n",
       "    </tr>\n",
       "    <tr>\n",
       "      <th>53679</th>\n",
       "      <td>32055287</td>\n",
       "      <td>6.90</td>\n",
       "      <td>2012-04-04 00:10:54 UTC</td>\n",
       "      <td>-73.976073</td>\n",
       "      <td>40.765499</td>\n",
       "      <td>-73.995529</td>\n",
       "      <td>40.759676</td>\n",
       "      <td>1</td>\n",
       "      <td>1.761900</td>\n",
       "      <td>2012</td>\n",
       "      <td>4</td>\n",
       "      <td>Wednesday</td>\n",
       "    </tr>\n",
       "    <tr>\n",
       "      <th>8899</th>\n",
       "      <td>49949691</td>\n",
       "      <td>6.50</td>\n",
       "      <td>2011-02-04 12:53:00 UTC</td>\n",
       "      <td>-73.978897</td>\n",
       "      <td>40.761470</td>\n",
       "      <td>-73.983920</td>\n",
       "      <td>40.748797</td>\n",
       "      <td>1</td>\n",
       "      <td>1.471318</td>\n",
       "      <td>2011</td>\n",
       "      <td>2</td>\n",
       "      <td>Friday</td>\n",
       "    </tr>\n",
       "    <tr>\n",
       "      <th>176432</th>\n",
       "      <td>40505320</td>\n",
       "      <td>6.00</td>\n",
       "      <td>2013-01-29 16:30:00 UTC</td>\n",
       "      <td>-73.994793</td>\n",
       "      <td>40.759210</td>\n",
       "      <td>-73.982478</td>\n",
       "      <td>40.754343</td>\n",
       "      <td>1</td>\n",
       "      <td>1.169969</td>\n",
       "      <td>2013</td>\n",
       "      <td>1</td>\n",
       "      <td>Tuesday</td>\n",
       "    </tr>\n",
       "    <tr>\n",
       "      <th>61255</th>\n",
       "      <td>4115665</td>\n",
       "      <td>7.00</td>\n",
       "      <td>2013-03-02 12:48:13 UTC</td>\n",
       "      <td>-74.000946</td>\n",
       "      <td>40.725674</td>\n",
       "      <td>-74.003210</td>\n",
       "      <td>40.738915</td>\n",
       "      <td>1</td>\n",
       "      <td>1.484639</td>\n",
       "      <td>2013</td>\n",
       "      <td>3</td>\n",
       "      <td>Saturday</td>\n",
       "    </tr>\n",
       "    <tr>\n",
       "      <th>11717</th>\n",
       "      <td>47498131</td>\n",
       "      <td>31.33</td>\n",
       "      <td>2014-08-28 20:52:00 UTC</td>\n",
       "      <td>-73.873293</td>\n",
       "      <td>40.774110</td>\n",
       "      <td>-73.966467</td>\n",
       "      <td>40.789267</td>\n",
       "      <td>2</td>\n",
       "      <td>8.023990</td>\n",
       "      <td>2014</td>\n",
       "      <td>8</td>\n",
       "      <td>Thursday</td>\n",
       "    </tr>\n",
       "    <tr>\n",
       "      <th>74720</th>\n",
       "      <td>32296785</td>\n",
       "      <td>3.70</td>\n",
       "      <td>2009-05-28 19:49:51 UTC</td>\n",
       "      <td>-74.001272</td>\n",
       "      <td>40.736495</td>\n",
       "      <td>-74.003996</td>\n",
       "      <td>40.729840</td>\n",
       "      <td>1</td>\n",
       "      <td>0.774779</td>\n",
       "      <td>2009</td>\n",
       "      <td>5</td>\n",
       "      <td>Thursday</td>\n",
       "    </tr>\n",
       "    <tr>\n",
       "      <th>177602</th>\n",
       "      <td>28739240</td>\n",
       "      <td>31.83</td>\n",
       "      <td>2014-04-09 19:03:00 UTC</td>\n",
       "      <td>-73.874880</td>\n",
       "      <td>40.774067</td>\n",
       "      <td>-73.991080</td>\n",
       "      <td>40.750550</td>\n",
       "      <td>6</td>\n",
       "      <td>10.129908</td>\n",
       "      <td>2014</td>\n",
       "      <td>4</td>\n",
       "      <td>Wednesday</td>\n",
       "    </tr>\n",
       "  </tbody>\n",
       "</table>\n",
       "</div>"
      ],
      "text/plain": [
       "         ride_id  fare_amount          pickup_datetime  pickup_longitude  \\\n",
       "106170  10033786         5.00  2014-11-21 17:19:48 UTC        -73.957986   \n",
       "35828   15823888         8.90  2011-01-23 20:17:00 UTC        -73.955798   \n",
       "24261   48909730         4.90  2011-12-09 12:00:57 UTC        -73.990215   \n",
       "53679   32055287         6.90  2012-04-04 00:10:54 UTC        -73.976073   \n",
       "8899    49949691         6.50  2011-02-04 12:53:00 UTC        -73.978897   \n",
       "176432  40505320         6.00  2013-01-29 16:30:00 UTC        -73.994793   \n",
       "61255    4115665         7.00  2013-03-02 12:48:13 UTC        -74.000946   \n",
       "11717   47498131        31.33  2014-08-28 20:52:00 UTC        -73.873293   \n",
       "74720   32296785         3.70  2009-05-28 19:49:51 UTC        -74.001272   \n",
       "177602  28739240        31.83  2014-04-09 19:03:00 UTC        -73.874880   \n",
       "\n",
       "        pickup_latitude  dropoff_longitude  dropoff_latitude  passenger_count  \\\n",
       "106170        40.764925         -73.951847         40.773614                1   \n",
       "35828         40.779177         -73.986240         40.763995                2   \n",
       "24261         40.771838         -73.982583         40.774309                1   \n",
       "53679         40.765499         -73.995529         40.759676                1   \n",
       "8899          40.761470         -73.983920         40.748797                1   \n",
       "176432        40.759210         -73.982478         40.754343                1   \n",
       "61255         40.725674         -74.003210         40.738915                1   \n",
       "11717         40.774110         -73.966467         40.789267                2   \n",
       "74720         40.736495         -74.003996         40.729840                1   \n",
       "177602        40.774067         -73.991080         40.750550                6   \n",
       "\n",
       "         distance  year  month        day  \n",
       "106170   1.095793  2014     11     Friday  \n",
       "35828    3.069452  2011      1     Sunday  \n",
       "24261    0.698948  2011     12     Friday  \n",
       "53679    1.761900  2012      4  Wednesday  \n",
       "8899     1.471318  2011      2     Friday  \n",
       "176432   1.169969  2013      1    Tuesday  \n",
       "61255    1.484639  2013      3   Saturday  \n",
       "11717    8.023990  2014      8   Thursday  \n",
       "74720    0.774779  2009      5   Thursday  \n",
       "177602  10.129908  2014      4  Wednesday  "
      ]
     },
     "execution_count": 77,
     "metadata": {},
     "output_type": "execute_result"
    }
   ],
   "source": [
    "df.sample(10)"
   ]
  },
  {
   "cell_type": "markdown",
   "id": "15bdd87a",
   "metadata": {},
   "source": [
    "# Preparing data for training ML "
   ]
  },
  {
   "cell_type": "code",
   "execution_count": 69,
   "id": "fc55d339",
   "metadata": {},
   "outputs": [
    {
     "data": {
      "text/plain": [
       "(199999, 4)"
      ]
     },
     "execution_count": 69,
     "metadata": {},
     "output_type": "execute_result"
    }
   ],
   "source": [
    "ml_df = df[[\"passenger_count\",\"distance\",\"day\",\"fare_amount\"]]\n",
    "ml_df.shape"
   ]
  },
  {
   "cell_type": "markdown",
   "id": "23f18a7d",
   "metadata": {},
   "source": [
    "### Mapping data column to numeric"
   ]
  },
  {
   "cell_type": "code",
   "execution_count": 78,
   "id": "060c4516",
   "metadata": {},
   "outputs": [
    {
     "name": "stderr",
     "output_type": "stream",
     "text": [
      "C:\\Users\\nilesh\\AppData\\Local\\Temp\\ipykernel_10324\\3037545422.py:2: SettingWithCopyWarning: \n",
      "A value is trying to be set on a copy of a slice from a DataFrame.\n",
      "Try using .loc[row_indexer,col_indexer] = value instead\n",
      "\n",
      "See the caveats in the documentation: https://pandas.pydata.org/pandas-docs/stable/user_guide/indexing.html#returning-a-view-versus-a-copy\n",
      "  ml_df[\"day\"] = ml_df[\"day\"].map(weekday_val)\n"
     ]
    }
   ],
   "source": [
    "weekday_val = {\"Monday\" : 1, \"Tuesday\" : 2, \"Wednesday\" : 3, \"Thursday\" : 4, \"Friday\" : 5, \"Saturday\" : 6, \"Sunday\" : 7}\n",
    "ml_df[\"day\"] = ml_df[\"day\"].map(weekday_val)"
   ]
  },
  {
   "cell_type": "markdown",
   "id": "ae428c8a",
   "metadata": {},
   "source": [
    "#### Spliting the data into train-test"
   ]
  },
  {
   "cell_type": "code",
   "execution_count": 79,
   "id": "3db0fe5c",
   "metadata": {},
   "outputs": [],
   "source": [
    "from sklearn.model_selection import train_test_split\n",
    "X = ml_df.drop('fare_amount', axis=1)\n",
    "y = ml_df['fare_amount']\n",
    "\n",
    "X_train, X_test, y_train, y_test = train_test_split(X, y, test_size=0.3)"
   ]
  },
  {
   "cell_type": "markdown",
   "id": "6241d5b9",
   "metadata": {},
   "source": [
    "#### Scalling and Standardizing data"
   ]
  },
  {
   "cell_type": "code",
   "execution_count": 80,
   "id": "90439c99",
   "metadata": {},
   "outputs": [],
   "source": [
    "from sklearn.preprocessing import StandardScaler    \n",
    "st_x= StandardScaler()    \n",
    "X_train= st_x.fit_transform(X_train)    \n",
    "X_test= st_x.transform(X_test)  "
   ]
  },
  {
   "cell_type": "markdown",
   "id": "203ba817",
   "metadata": {},
   "source": [
    "#### training data"
   ]
  },
  {
   "cell_type": "code",
   "execution_count": 82,
   "id": "6ef9f16d",
   "metadata": {},
   "outputs": [
    {
     "data": {
      "text/html": [
       "<style>#sk-container-id-1 {color: black;background-color: white;}#sk-container-id-1 pre{padding: 0;}#sk-container-id-1 div.sk-toggleable {background-color: white;}#sk-container-id-1 label.sk-toggleable__label {cursor: pointer;display: block;width: 100%;margin-bottom: 0;padding: 0.3em;box-sizing: border-box;text-align: center;}#sk-container-id-1 label.sk-toggleable__label-arrow:before {content: \"▸\";float: left;margin-right: 0.25em;color: #696969;}#sk-container-id-1 label.sk-toggleable__label-arrow:hover:before {color: black;}#sk-container-id-1 div.sk-estimator:hover label.sk-toggleable__label-arrow:before {color: black;}#sk-container-id-1 div.sk-toggleable__content {max-height: 0;max-width: 0;overflow: hidden;text-align: left;background-color: #f0f8ff;}#sk-container-id-1 div.sk-toggleable__content pre {margin: 0.2em;color: black;border-radius: 0.25em;background-color: #f0f8ff;}#sk-container-id-1 input.sk-toggleable__control:checked~div.sk-toggleable__content {max-height: 200px;max-width: 100%;overflow: auto;}#sk-container-id-1 input.sk-toggleable__control:checked~label.sk-toggleable__label-arrow:before {content: \"▾\";}#sk-container-id-1 div.sk-estimator input.sk-toggleable__control:checked~label.sk-toggleable__label {background-color: #d4ebff;}#sk-container-id-1 div.sk-label input.sk-toggleable__control:checked~label.sk-toggleable__label {background-color: #d4ebff;}#sk-container-id-1 input.sk-hidden--visually {border: 0;clip: rect(1px 1px 1px 1px);clip: rect(1px, 1px, 1px, 1px);height: 1px;margin: -1px;overflow: hidden;padding: 0;position: absolute;width: 1px;}#sk-container-id-1 div.sk-estimator {font-family: monospace;background-color: #f0f8ff;border: 1px dotted black;border-radius: 0.25em;box-sizing: border-box;margin-bottom: 0.5em;}#sk-container-id-1 div.sk-estimator:hover {background-color: #d4ebff;}#sk-container-id-1 div.sk-parallel-item::after {content: \"\";width: 100%;border-bottom: 1px solid gray;flex-grow: 1;}#sk-container-id-1 div.sk-label:hover label.sk-toggleable__label {background-color: #d4ebff;}#sk-container-id-1 div.sk-serial::before {content: \"\";position: absolute;border-left: 1px solid gray;box-sizing: border-box;top: 0;bottom: 0;left: 50%;z-index: 0;}#sk-container-id-1 div.sk-serial {display: flex;flex-direction: column;align-items: center;background-color: white;padding-right: 0.2em;padding-left: 0.2em;position: relative;}#sk-container-id-1 div.sk-item {position: relative;z-index: 1;}#sk-container-id-1 div.sk-parallel {display: flex;align-items: stretch;justify-content: center;background-color: white;position: relative;}#sk-container-id-1 div.sk-item::before, #sk-container-id-1 div.sk-parallel-item::before {content: \"\";position: absolute;border-left: 1px solid gray;box-sizing: border-box;top: 0;bottom: 0;left: 50%;z-index: -1;}#sk-container-id-1 div.sk-parallel-item {display: flex;flex-direction: column;z-index: 1;position: relative;background-color: white;}#sk-container-id-1 div.sk-parallel-item:first-child::after {align-self: flex-end;width: 50%;}#sk-container-id-1 div.sk-parallel-item:last-child::after {align-self: flex-start;width: 50%;}#sk-container-id-1 div.sk-parallel-item:only-child::after {width: 0;}#sk-container-id-1 div.sk-dashed-wrapped {border: 1px dashed gray;margin: 0 0.4em 0.5em 0.4em;box-sizing: border-box;padding-bottom: 0.4em;background-color: white;}#sk-container-id-1 div.sk-label label {font-family: monospace;font-weight: bold;display: inline-block;line-height: 1.2em;}#sk-container-id-1 div.sk-label-container {text-align: center;}#sk-container-id-1 div.sk-container {/* jupyter's `normalize.less` sets `[hidden] { display: none; }` but bootstrap.min.css set `[hidden] { display: none !important; }` so we also need the `!important` here to be able to override the default hidden behavior on the sphinx rendered scikit-learn.org. See: https://github.com/scikit-learn/scikit-learn/issues/21755 */display: inline-block !important;position: relative;}#sk-container-id-1 div.sk-text-repr-fallback {display: none;}</style><div id=\"sk-container-id-1\" class=\"sk-top-container\"><div class=\"sk-text-repr-fallback\"><pre>KNeighborsRegressor(n_neighbors=3)</pre><b>In a Jupyter environment, please rerun this cell to show the HTML representation or trust the notebook. <br />On GitHub, the HTML representation is unable to render, please try loading this page with nbviewer.org.</b></div><div class=\"sk-container\" hidden><div class=\"sk-item\"><div class=\"sk-estimator sk-toggleable\"><input class=\"sk-toggleable__control sk-hidden--visually\" id=\"sk-estimator-id-1\" type=\"checkbox\" checked><label for=\"sk-estimator-id-1\" class=\"sk-toggleable__label sk-toggleable__label-arrow\">KNeighborsRegressor</label><div class=\"sk-toggleable__content\"><pre>KNeighborsRegressor(n_neighbors=3)</pre></div></div></div></div></div>"
      ],
      "text/plain": [
       "KNeighborsRegressor(n_neighbors=3)"
      ]
     },
     "execution_count": 82,
     "metadata": {},
     "output_type": "execute_result"
    }
   ],
   "source": [
    "from sklearn.linear_model import LinearRegression\n",
    "from sklearn.tree import DecisionTreeRegressor\n",
    "from sklearn.ensemble import RandomForestRegressor\n",
    "from sklearn.neighbors import KNeighborsRegressor \n",
    "\n",
    "lr = LinearRegression()\n",
    "lr.fit(X_train, y_train)\n",
    "\n",
    "dtr = DecisionTreeRegressor()\n",
    "dtr.fit(X_train, y_train)\n",
    "\n",
    "rfr = RandomForestRegressor(random_state=0)\n",
    "rfr.fit(X_train, y_train)\n",
    "\n",
    "knn_r = KNeighborsRegressor(n_neighbors=3)\n",
    "knn_r.fit(X_train, y_train)\n",
    "\n",
    "\n",
    "# from sklearn.metrics import accuracy_score, confusion_matrix, precision_score, recall_score, ConfusionMatrixDisplay"
   ]
  },
  {
   "cell_type": "markdown",
   "id": "d86098cc",
   "metadata": {},
   "source": [
    "#### Prediction for Test data"
   ]
  },
  {
   "cell_type": "code",
   "execution_count": 84,
   "id": "338a5145",
   "metadata": {},
   "outputs": [],
   "source": [
    "pred_lr = lr.predict(X_test)\n",
    "pred_dtr = dtr.predict(X_test)\n",
    "pred_rfr = rfr.predict(X_test)\n",
    "pred_knn_r = knn_r.predict(X_test)"
   ]
  },
  {
   "cell_type": "markdown",
   "id": "a29a44e0",
   "metadata": {},
   "source": [
    "### R2 score calculation"
   ]
  },
  {
   "cell_type": "code",
   "execution_count": 85,
   "id": "8ba825d6",
   "metadata": {},
   "outputs": [],
   "source": [
    "from sklearn.metrics import r2_score\n",
    "\n",
    "r2_lr = r2_score(y_test, pred_lr)\n",
    "r2_dtr = r2_score(y_test, pred_dtr)\n",
    "r2_rfr = r2_score(y_test, pred_rfr)\n",
    "r2_knn_r = r2_score(y_test, pred_knn_r)"
   ]
  },
  {
   "cell_type": "markdown",
   "id": "fb32ddeb",
   "metadata": {},
   "source": [
    "#### Adjusted R2 calculation"
   ]
  },
  {
   "cell_type": "code",
   "execution_count": 88,
   "id": "07ae8a51",
   "metadata": {},
   "outputs": [
    {
     "name": "stdout",
     "output_type": "stream",
     "text": [
      "Linear Regression Adjusted R2 Value:  0.0007124050615815447\n",
      "Decission Tree Regression Adjusted R2 Value:  0.5182425470357652\n",
      "random Forest Regression Adjusted R2 Value:  0.6624242815597181\n",
      "KNN Regression Adjusted R2 Value:  0.6216590558644375\n"
     ]
    }
   ],
   "source": [
    "def adj_r2(score):\n",
    "    return (1-(1-score)*((len(X_test)-1)/(len(X_test)-len(X_test[0])-1)))\n",
    "\n",
    "lr_ad_score = adj_r2(r2_lr)\n",
    "dtr_ad_score = adj_r2(r2_dtr)\n",
    "rfr_ad_score = adj_r2(r2_rfr)\n",
    "knn_ad_score = adj_r2(r2_knn_r)\n",
    "\n",
    "print(\"Linear Regression Adjusted R2 Value: \", lr_ad_score)\n",
    "print(\"Decission Tree Regression Adjusted R2 Value: \", dtr_ad_score)\n",
    "print(\"random Forest Regression Adjusted R2 Value: \", rfr_ad_score)\n",
    "print(\"KNN Regression Adjusted R2 Value: \", knn_ad_score)"
   ]
  },
  {
   "cell_type": "code",
   "execution_count": null,
   "id": "f585b0d3",
   "metadata": {},
   "outputs": [],
   "source": []
  }
 ],
 "metadata": {
  "kernelspec": {
   "display_name": "Python 3 (ipykernel)",
   "language": "python",
   "name": "python3"
  },
  "language_info": {
   "codemirror_mode": {
    "name": "ipython",
    "version": 3
   },
   "file_extension": ".py",
   "mimetype": "text/x-python",
   "name": "python",
   "nbconvert_exporter": "python",
   "pygments_lexer": "ipython3",
   "version": "3.10.9"
  }
 },
 "nbformat": 4,
 "nbformat_minor": 5
}
